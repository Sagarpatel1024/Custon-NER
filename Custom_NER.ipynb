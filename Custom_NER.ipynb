{
  "nbformat": 4,
  "nbformat_minor": 0,
  "metadata": {
    "colab": {
      "provenance": []
    },
    "kernelspec": {
      "name": "python3",
      "display_name": "Python 3"
    },
    "language_info": {
      "name": "python"
    }
  },
  "cells": [
    {
      "cell_type": "code",
      "execution_count": 1,
      "metadata": {
        "colab": {
          "base_uri": "https://localhost:8080/"
        },
        "id": "xbqXeONNUsAQ",
        "outputId": "8448eb77-b7ea-4147-ba60-33babb364ec6"
      },
      "outputs": [
        {
          "output_type": "stream",
          "name": "stdout",
          "text": [
            "\u001b[2K   \u001b[90m━━━━━━━━━━━━━━━━━━━━━━━━━━━━━━━━━━━━━━━━\u001b[0m \u001b[32m29.1/29.1 MB\u001b[0m \u001b[31m58.6 MB/s\u001b[0m eta \u001b[36m0:00:00\u001b[0m\n",
            "\u001b[2K   \u001b[90m━━━━━━━━━━━━━━━━━━━━━━━━━━━━━━━━━━━━━━━━\u001b[0m \u001b[32m3.7/3.7 MB\u001b[0m \u001b[31m79.4 MB/s\u001b[0m eta \u001b[36m0:00:00\u001b[0m\n",
            "\u001b[2K   \u001b[90m━━━━━━━━━━━━━━━━━━━━━━━━━━━━━━━━━━━━━━━━\u001b[0m \u001b[32m9.2/9.2 MB\u001b[0m \u001b[31m91.1 MB/s\u001b[0m eta \u001b[36m0:00:00\u001b[0m\n",
            "\u001b[?25h\u001b[31mERROR: pip's dependency resolver does not currently take into account all the packages that are installed. This behaviour is the source of the following dependency conflicts.\n",
            "en-core-web-sm 3.7.1 requires spacy<3.8.0,>=3.7.2, but you have spacy 3.8.3 which is incompatible.\u001b[0m\u001b[31m\n",
            "\u001b[0m"
          ]
        }
      ],
      "source": [
        "! pip install -U spacy -q"
      ]
    },
    {
      "cell_type": "code",
      "source": [
        "!python -m spacy info"
      ],
      "metadata": {
        "colab": {
          "base_uri": "https://localhost:8080/"
        },
        "id": "B8hvZt0qUvfA",
        "outputId": "4fe8f590-5979-4414-a9f7-26bdfa5975b3"
      },
      "execution_count": 2,
      "outputs": [
        {
          "output_type": "stream",
          "name": "stdout",
          "text": [
            "/usr/local/lib/python3.10/dist-packages/spacy/util.py:910: UserWarning: [W095] Model 'en_core_web_sm' (3.7.1) was trained with spaCy v3.7.2 and may not be 100% compatible with the current version (3.8.3). If you see errors or degraded performance, download a newer compatible model or retrain your custom model with the current spaCy version. For more details and available updates, run: python -m spacy validate\n",
            "  warnings.warn(warn_msg)\n",
            "\u001b[1m\n",
            "============================== Info about spaCy ==============================\u001b[0m\n",
            "\n",
            "spaCy version    3.8.3                         \n",
            "Location         /usr/local/lib/python3.10/dist-packages/spacy\n",
            "Platform         Linux-6.1.85+-x86_64-with-glibc2.35\n",
            "Python version   3.10.12                       \n",
            "Pipelines        en_core_web_sm (3.7.1)        \n",
            "\n"
          ]
        }
      ]
    },
    {
      "cell_type": "code",
      "source": [
        "import spacy\n",
        "from spacy.tokens import DocBin\n",
        "from tqdm import tqdm\n",
        "\n",
        "nlp = spacy.blank(\"en\") # load a new spacy model\n",
        "db = DocBin() # create a DocBin object"
      ],
      "metadata": {
        "id": "CYc4PoUJZgVI"
      },
      "execution_count": 3,
      "outputs": []
    },
    {
      "cell_type": "code",
      "source": [
        "import json\n",
        "f = open('annotations _final.json')\n",
        "TRAIN_DATA = json.load(f)"
      ],
      "metadata": {
        "id": "ypmHuPYBZ7C0"
      },
      "execution_count": 8,
      "outputs": []
    },
    {
      "cell_type": "code",
      "source": [
        "TRAIN_DATA"
      ],
      "metadata": {
        "colab": {
          "base_uri": "https://localhost:8080/"
        },
        "id": "97rJzl1TrO-A",
        "outputId": "cfb831b9-15e2-401e-b533-6c831cde28e9"
      },
      "execution_count": 30,
      "outputs": [
        {
          "output_type": "execute_result",
          "data": {
            "text/plain": [
              "[['Rajesh Patel, a 42-year-old Financial Advisor, was the central figure in a high-profile financial crime case.\\r',\n",
              "  {'entities': [[0, 12, 'PERSON'], [16, 27, 'AGE'], [28, 45, 'PROFESSION']]}],\n",
              " ['Rajesh Patel had been employed at IndoGlobal Insurance Ltd. for over a decade.\\r',\n",
              "  {'entities': [[0, 12, 'PERSON'], [34, 59, 'ORG'], [71, 77, 'TIME']]}],\n",
              " ['Rajesh Patel and hansal patel were known for his expertise in investment strategies and financial management.\\r',\n",
              "  {'entities': [[0, 12, 'PERSON'], [17, 29, 'PERSON']]}],\n",
              " ['The accused Rajesh is alleged to have used his position to siphon funds through a series of forged documents and unauthorized transactions between 2021 and 2022.\\r',\n",
              "  {'entities': [[12, 18, 'PERSON'], [147, 151, 'DATE'], [156, 160, 'DATE']]}],\n",
              " ['The alleged crimes were uncovered when Meera Smith, an Internal Auditor at National Bank of Commerce, noticed discrepancies during a routine financial review in January 2023.\\r',\n",
              "  {'entities': [[39, 50, 'PERSON'],\n",
              "    [55, 71, 'PROFESSION'],\n",
              "    [75, 100, 'ORG'],\n",
              "    [161, 173, 'DATE']]}],\n",
              " ['She observed multiple unauthorized wire transfers totaling ₹5,00,000 from customer accounts. \\r',\n",
              "  {'entities': [[59, 68, 'MONEY']]}],\n",
              " ['These transactions were linked to a suspicious account opened under the name Nalini Rai. \\r',\n",
              "  {'entities': [[77, 87, 'PERSON']]}],\n",
              " ['According to the prosecution, between April 2021 and December 2022, Rajesh Patel created three fake customer profiles using his access to sensitive customer information. \\r',\n",
              "  {'entities': [[38, 48, 'DATE'], [53, 66, 'DATE'], [68, 80, 'PERSON']]}],\n",
              " ['he funds were transferred to an offshore account at Delta Finance Partners, a reputed financial institution based in Singapore.\\r',\n",
              "  {'entities': [[52, 74, 'ORG'], [117, 126, 'GPE']]}],\n",
              " ['The defense team, led by Jagni Mehrotra, a Criminal Defense Attorney, argued that Rajesh Patel had been suffering from severe depression and anxiety due to work-related stress and a recent divorce.\\r',\n",
              "  {'entities': [[25, 39, 'PERSON'],\n",
              "    [43, 68, 'PROFESSION'],\n",
              "    [82, 94, 'PERSON'],\n",
              "    [119, 136, 'HEALTH'],\n",
              "    [141, 148, 'HEALTH']]}],\n",
              " ['Patel had been undergoing treatment for clinical depression since October 2022.\\r',\n",
              "  {'entities': [[0, 5, 'PERSON'], [40, 59, 'HEALTH'], [66, 78, 'DATE']]}],\n",
              " ['The trial began on April 10, 2023, in the District Court of Mumbai. \\r',\n",
              "  {'entities': [[19, 33, 'DATE'], [42, 66, 'LOC']]}],\n",
              " [' The prosecution, represented by Savitri Mehta, an experienced Public Prosecutor, presented evidence, including digital records of unauthorized transactions, fake documents, and testimony from bank employees.\\r',\n",
              "  {'entities': [[33, 46, 'PERSON'], [63, 80, 'PROFESSION']]}],\n",
              " ['Key witnesses, including Meera Smith, testified that they had seen Rajesh Patel accessing sensitive customer data beyond his authorized permissions.\\r',\n",
              "  {'entities': [[25, 36, 'PERSON'], [67, 79, 'PERSON']]}],\n",
              " ['The defense argued that there was no concrete evidence directly linking Rakesh Patel to the fraudulent transactions.\\r',\n",
              "  {'entities': [[72, 84, 'PERSON'], [92, 102, 'CRIME']]}],\n",
              " ['They also emphasized his clean criminal record and his 22 years of service as a Financial Advisor with no prior complaints.\\r',\n",
              "  {'entities': [[55, 63, 'TIME'], [80, 97, 'PROFESSION']]}],\n",
              " ['The defense called David Brown, an IT Security Specialist, to testify that there had been multiple cybersecurity breaches at National Bank of Commerce in recent years, suggesting that Rakesh Patel could have been framed by a third party.\\r',\n",
              "  {'entities': [[19, 30, 'PERSON'],\n",
              "    [35, 57, 'PROFESSION'],\n",
              "    [99, 121, 'CRIME'],\n",
              "    [125, 150, 'ORG'],\n",
              "    [161, 166, 'TIME'],\n",
              "    [184, 196, 'PERSON']]}],\n",
              " ['After several weeks of deliberation, the court delivered its verdict on June 5, 2023.\\r',\n",
              "  {'entities': [[14, 19, 'TIME'], [72, 84, 'DATE']]}],\n",
              " ['Rakesh Patel was found guilty of fraud, embezzlement, and criminal breach of trust under Sections 420, 406, and 468 of the Indian Penal Code. \\r',\n",
              "  {'entities': [[0, 12, 'PERSON'], [33, 38, 'CRIME']]}],\n",
              " ['Rakesh Patel was sentenced to 7 years of rigorous imprisonment and a fine of Rs.2 lacs.\\r',\n",
              "  {'entities': [[0, 12, 'PERSON'], [30, 37, 'TIME'], [77, 86, 'MONEY']]}],\n",
              " ['dditionally, the court ordered the recovery of Rs.50 crores from his personal assets to be paid as restitution to the affected customers of National Bank of Commerce.\\r',\n",
              "  {'entities': [[47, 59, 'MONEY'], [140, 165, 'ORG']]}],\n",
              " [\"Rakesh Patel's defense team filed an appeal on June 20, 2023, challenging the conviction on the grounds of insufficient evidence and the consideration of his mental health condition.\\r\",\n",
              "  {'entities': [[0, 12, 'PERSON'], [47, 60, 'DATE']]}],\n",
              " ['The appeal is currently pending before the Mumbai High Court.\\r',\n",
              "  {'entities': [[43, 60, 'ORG']]}],\n",
              " ['The incident took place in 1985 when the students, who were studying in a government school in Kerala, remained silent when the national anthem was being played in their school.\\r',\n",
              "  {'entities': [[27, 31, 'DATE'], [95, 101, 'GPE']]}],\n",
              " ['This case concerned the marriage of Hadiya Jahan, a 24-year-old medical student who converted to Islam and married Shafin Jahan. \\r',\n",
              "  {'entities': [[36, 48, 'PERSON'],\n",
              "    [52, 63, 'AGE'],\n",
              "    [97, 102, 'NORP'],\n",
              "    [115, 127, 'PERSON']]}],\n",
              " ['The High Court annulled the marriage, claiming that Hadiya was vulnerable and capable of being exploited, and exercised the parens patriae jurisdiction to ensure her welfare.\\r',\n",
              "  {'entities': [[4, 14, 'ORG'], [52, 58, 'PERSON']]}],\n",
              " ['e case dealt with the practice of \"triple talaq,\" a form of instant divorce prevalent in the Muslim community in India, where a husband could divorce his wife by saying the word \"talaq\" three times. \\r',\n",
              "  {'entities': [[93, 99, 'NORP'], [113, 118, 'GPE']]}],\n",
              " ['The case was heard by a five-judge bench of the Supreme Court, which included Chief Justice JS Khehar and Justices Kurian Joseph, Rohinton F. Nariman, Uday U. Lalit, and Abdul Nazeer.\\r',\n",
              "  {'entities': [[24, 34, 'PROFESSION'],\n",
              "    [48, 61, 'ORG'],\n",
              "    [78, 101, 'PERSON'],\n",
              "    [106, 128, 'PERSON'],\n",
              "    [130, 149, 'PERSON'],\n",
              "    [151, 164, 'PERSON'],\n",
              "    [170, 182, 'PERSON']]}],\n",
              " ['The Union of India and women’s rights organisations such as Bebaak Collective and Bhartiya Muslim Mahila Andolan (BMMA), supported the petitioner’s claim that these practises are unconstitutional.\\r',\n",
              "  {'entities': [[4, 18, 'ORG'], [60, 77, 'ORG'], [82, 119, 'NORP']]}],\n",
              " ['However, the AIMPLB argued that uncodified Muslim personal law is not subject to constitutional judicial review, and that these are essential Islamic practises protected by Article 25 of the Constitution. \\r',\n",
              "  {'entities': [[13, 19, 'ORG'], [43, 49, 'NORP'], [142, 149, 'NORP']]}],\n",
              " ['he Supreme Court declared the practice of instant ‘triple talaq’ unconstitutional, holding that it was arbitrary and not an essential part of Islamic law.\\r',\n",
              "  {'entities': [[3, 16, 'ORG'], [142, 149, 'NORP']]}],\n",
              " ['The case of Rev. Stainislaus v. State of Madhya Pradesh began with the arrest of Reverend Stainislaus, a Roman Catholic priest, in the state of Madhya Pradesh, India.\\r',\n",
              "  {'entities': [[12, 31, 'PERSON'],\n",
              "    [32, 55, 'GPE'],\n",
              "    [81, 101, 'PERSON'],\n",
              "    [105, 126, 'PROFESSION'],\n",
              "    [144, 158, 'GPE'],\n",
              "    [160, 165, 'GPE']]}],\n",
              " ['He was accused of violating the provisions of the Madhya Pradesh Dharma Swatantrya Adhiniyam (Freedom of Religion Act), 1968, which prohibited forced religious conversions. \\r',\n",
              "  {'entities': [[50, 118, 'NORP'], [120, 124, 'DATE']]}],\n",
              " ['The case was heard by a bench comprising Chief Justice A.N. Ray, Justice M.H. Beg, Justice P.N. Bhagwati, Justice Y.V. Chandrachud, and Justice S.M. Fazal Ali. \\r',\n",
              "  {'entities': [[41, 63, 'PERSON'],\n",
              "    [65, 81, 'PERSON'],\n",
              "    [83, 104, 'PERSON'],\n",
              "    [106, 130, 'PERSON'],\n",
              "    [136, 158, 'PERSON']]}],\n",
              " ['The Vachathi case involved a mass crime that occurred on 20 June 1992 in the village of Vachathi, in Dharmapuri district, Tamil Nadu. \\r',\n",
              "  {'entities': [[4, 12, 'LOC'],\n",
              "    [57, 69, 'DATE'],\n",
              "    [88, 96, 'LOC'],\n",
              "    [101, 120, 'LOC'],\n",
              "    [122, 132, 'GPE']]}],\n",
              " ['A team of 155 forest personnel, 108 policemen and six revenue officials entered the Tribal-dominated Vachathi village, searching for smuggled sandalwood.\\r',\n",
              "  {'entities': [[14, 30, 'PROFESSION'],\n",
              "    [36, 45, 'PROFESSION'],\n",
              "    [54, 71, 'PROFESSION'],\n",
              "    [84, 100, 'NORP'],\n",
              "    [101, 117, 'LOC']]}],\n",
              " [\"Under the pretext of conducting a search, the team ransacked the villagers' property, destroyed their houses, killed their cattle, assaulted around 100 villagers, and raped 18 women.\\r\",\n",
              "  {'entities': [[110, 116, 'CRIME'],\n",
              "    [131, 140, 'CRIME'],\n",
              "    [167, 172, 'CRIME']]}],\n",
              " ['After a court order, the CBI began probing the case, which was also under the scope of the NHRC.\\r',\n",
              "  {'entities': [[25, 28, 'ORG'], [91, 95, 'ORG']]}],\n",
              " ['During June 1992, the villagers, who were mostly tribals, prevented forest and revenue officials from entering the hamlet.\\r',\n",
              "  {'entities': [[7, 16, 'DATE'], [49, 56, 'NORP']]}],\n",
              " ['On 12 September 2014, the state government offered a compensation of ₹12.2 lakh to all the victims.\\r',\n",
              "  {'entities': [[3, 20, 'DATE'], [26, 42, 'ORG'], [69, 79, 'MONEY']]}],\n",
              " [' An additional $50,000 was allocated to each of the 105 villagers who were drafted in the chargesheet filed in 1999.\\r',\n",
              "  {'entities': [[15, 22, 'MONEY'], [111, 115, 'DATE']]}],\n",
              " ['he chargesheet was quashed by the court during November 2012.\\r',\n",
              "  {'entities': [[47, 60, 'DATE']]}],\n",
              " [\"Sukumara Kurup, also known as Sukumara Pillai, is an elusive figure and a high-priority criminal on Kerala's most-wanted list in India.\\r\",\n",
              "  {'entities': [[0, 14, 'PERSON'],\n",
              "    [30, 45, 'PERSON'],\n",
              "    [100, 106, 'GPE'],\n",
              "    [129, 134, 'GPE']]}],\n",
              " ['His tale of infamy dates back to January 21, 1984, when he, accompanied by his co-brother Bhaskara Pillai, driver Ponnappan, and aide Shahu, executed a chilling plot that would reverberate through the annals of crime.\\r',\n",
              "  {'entities': [[33, 49, 'DATE'],\n",
              "    [90, 105, 'PERSON'],\n",
              "    [107, 113, 'PROFESSION'],\n",
              "    [114, 123, 'PERSON'],\n",
              "    [134, 139, 'PERSON']]}],\n",
              " ['In 2006, Mumbai was gripped by a series of horrifying murders that took place between Churchgate and Marine Lines.\\r',\n",
              "  {'entities': [[3, 7, 'DATE'],\n",
              "    [9, 15, 'GPE'],\n",
              "    [86, 96, 'LOC'],\n",
              "    [101, 113, 'LOC']]}],\n",
              " ['Over a span of several months, seven victims, including cab drivers and homeless individuals, were discovered brutally killed and stripped naked from the waist down, indicating possible sexual assault.\\r',\n",
              "  {'entities': [[23, 29, 'TIME'], [119, 125, 'CRIME'], [186, 200, 'CRIME']]}],\n",
              " ['Further inquiries led them to Ravindra Kantrole, a 36-year-old former member of the Dashrath Rane gang who had converted to Islam and lived in a slum near Marine Line.\\r',\n",
              "  {'entities': [[30, 47, 'PERSON'],\n",
              "    [51, 62, 'AGE'],\n",
              "    [84, 102, 'ORG'],\n",
              "    [124, 129, 'NORP'],\n",
              "    [155, 166, 'LOC']]}],\n",
              " [' In a tragic turn of events, Snehal Gaware, a vibrant young woman from Dombivili, Thane, Maharashtra, met a brutal demise on July 20, 2007.\\r',\n",
              "  {'entities': [[29, 42, 'PERSON'],\n",
              "    [71, 80, 'GPE'],\n",
              "    [82, 87, 'GPE'],\n",
              "    [89, 100, 'GPE'],\n",
              "    [125, 138, 'DATE']]}],\n",
              " [\"None other than her own boyfriend. Snehal, a student at Sardar Patel College of Engineering in Andheri, resided with her parents in Dombivili's Ninad Society, where she was recovering from a leg injury sustained in June of that year.\\r\",\n",
              "  {'entities': [[35, 41, 'PERSON'],\n",
              "    [45, 52, 'PROFESSION'],\n",
              "    [56, 91, 'ORG'],\n",
              "    [95, 102, 'LOC'],\n",
              "    [132, 157, 'LOC'],\n",
              "    [215, 219, 'DATE'],\n",
              "    [228, 232, 'TIME']]}],\n",
              " ['The story of 30 year-old computer graphics trainer, Rizwanur Rahman is shrouded in mystery.\\r',\n",
              "  {'entities': [[13, 24, 'AGE'], [25, 50, 'PROFESSION'], [52, 67, 'PERSON']]}],\n",
              " ['The alleged scheme involved the illegal use of multiple Aadhar card numbers, including 1234 5678 9012, to open bank accounts and apply for loans.\\r',\n",
              "  {'entities': [[87, 101, 'ACN']]}],\n",
              " ['Priya Nair first came under suspicion when a series of bank accounts linked to the Aadhar card number 1234 5678 9012 showed unusual transaction patterns.\\r',\n",
              "  {'entities': [[0, 10, 'PERSON'], [102, 116, 'ACN']]}],\n",
              " ['It was discovered that Priya Nair had used the Aadhar card number 7134 5078 9012 to obtain a loan of $1,00,000 from Vikram Financial Services.\\r',\n",
              "  {'entities': [[23, 33, 'PERSON'],\n",
              "    [66, 80, 'ACN'],\n",
              "    [101, 110, 'MONEY'],\n",
              "    [116, 141, 'ORG']]}],\n",
              " [\"The bank's internal audit flagged the Aadhar card number 9034 5988 9012 when it was used to apply for a second loan within a span of just two weeks.\\r\",\n",
              "  {'entities': [[57, 71, 'ACN'], [138, 147, 'TIME']]}],\n",
              " ['The fraud came to light when Arjun Mehta, an official from the UIDAI (Unique Identification Authority of India), noticed discrepancies in the usage of the Aadhar card number 1234 5678 9012.\\r',\n",
              "  {'entities': [[4, 9, 'CRIME'],\n",
              "    [29, 40, 'PERSON'],\n",
              "    [63, 111, 'ORG'],\n",
              "    [174, 188, 'ACN']]}],\n",
              " ['The prosecution presented evidence showing that Priya Nair used the Aadhar card number 1234 4238 1012 to register a business under the name Priya Technologies.\\r',\n",
              "  {'entities': [[48, 58, 'PERSON'], [87, 101, 'ACN'], [140, 158, 'ORG']]}],\n",
              " ['A key witness, Rajesh Verma, a cybersecurity expert, testified that the Aadhar card number 1534 0084 9012 had been cloned multiple times.\\r',\n",
              "  {'entities': [[15, 27, 'PERSON'],\n",
              "    [31, 51, 'PROFESSION'],\n",
              "    [91, 105, 'ACN']]}],\n",
              " ['The court ordered a forensic analysis of all transactions associated with the Aadhar card number 5578 9044 8212 to assess the extent of the fraud.\\r',\n",
              "  {'entities': [[97, 111, 'ACN'], [140, 145, 'CRIME']]}],\n",
              " ['Priya Nair was found guilty of fraud and sentenced to five years in prison, and the Aadhar card number 1234 5678 9012 was permanently blacklisted.\\r',\n",
              "  {'entities': [[0, 10, 'PERSON'],\n",
              "    [31, 36, 'CRIME'],\n",
              "    [54, 64, 'TIME'],\n",
              "    [68, 74, 'LOC'],\n",
              "    [103, 117, 'ACN']]}],\n",
              " ['Dr. Babasaheb Ambedkar gave a fascinating lecture on the advancements in cancer treatment.\\r',\n",
              "  {'entities': [[0, 22, 'PERSON'], [73, 79, 'HEALTH']]}],\n",
              " ['Dr. APJ Abdul Kalam has been conducting groundbreaking research in neuroscience.\\r',\n",
              "  {'entities': [[0, 19, 'PERSON']]}],\n",
              " ['Prof. Amartya Sen new book on mental health practices is gaining widespread attention.\\r',\n",
              "  {'entities': [[0, 17, 'PERSON']]}],\n",
              " ['Dr. MS Swaminatahan, a renowned expert in pediatric cardiology, has been working tirelessly to develop new, non-invasive procedures to treat congenital heart defects in infants and young children.\\r',\n",
              "  {'entities': [[0, 19, 'PERSON'], [42, 62, 'HEALTH'], [141, 165, 'HEALTH']]}],\n",
              " [\"The PAN number for the company's CEO is BAJPC4350M.\\r\",\n",
              "  {'entities': [[33, 36, 'PROFESSION'], [40, 50, 'PAN']]}],\n",
              " ['Please verify the transaction associated with PAN DAJPC4150P.\\r',\n",
              "  {'entities': [[50, 60, 'PAN']]}],\n",
              " ['The employee submitted XGZFE7225A for tax deduction purposes.\\r',\n",
              "  {'entities': [[23, 33, 'PAN']]}],\n",
              " ['CTUGE1616I has been flagged for a tax audit this year.\\r',\n",
              "  {'entities': [[0, 10, 'PAN'], [49, 53, 'TIME']]}],\n",
              " ['We processed the refund for PAN PEVFV4506Y last week.\\r',\n",
              "  {'entities': [[32, 42, 'PAN'], [48, 52, 'TIME']]}],\n",
              " ['Ensure that UWPCL6780T is correctly entered in the payroll system.\\r',\n",
              "  {'entities': [[12, 22, 'PAN']]}],\n",
              " ['The bank rejected the loan application due to an issue with LQDTD5444T.\\r',\n",
              "  {'entities': [[60, 70, 'PAN']]}],\n",
              " ['PAN YUGFJ2046V was listed in the financial documents submitted by the client.\\r',\n",
              "  {'entities': [[4, 14, 'PAN']]}],\n",
              " ['The account linked to DDWCH0856B shows a large influx of funds recently.\\r',\n",
              "  {'entities': [[22, 32, 'PAN']]}],\n",
              " ['Verify the tax documents submitted with PAN NLXBC1905E for discrepancies.\\r',\n",
              "  {'entities': [[44, 54, 'PAN']]}],\n",
              " ['The business partner used GFQJR7008X in all financial transactions this quarter.\\r',\n",
              "  {'entities': [[26, 36, 'PAN'], [67, 79, 'TIME']]}],\n",
              " ['We need a copy of the PAN card for BAJPC4350M before finalizing the agreement.\\r',\n",
              "  {'entities': [[35, 45, 'PAN']]}],\n",
              " ['DAJPC4150P was incorrectly marked as invalid in our system.\\r',\n",
              "  {'entities': [[0, 10, 'PAN']]}],\n",
              " ['XGZFE7225A should be updated in the vendor’s tax profile.\\r',\n",
              "  {'entities': [[0, 10, 'PAN']]}],\n",
              " ['Please cross-check CTUGE1616I with the central database for accuracy.\\r',\n",
              "  {'entities': [[19, 29, 'PAN']]}],\n",
              " ['PEVFV4506Y has not been registered for Goods and Services Tax (GST) yet.\\r',\n",
              "  {'entities': [[0, 10, 'PAN']]}],\n",
              " ['UWPCL6780T has several linked accounts that need reconciliation.\\r',\n",
              "  {'entities': [[0, 10, 'PAN']]}],\n",
              " ['The client provided PAN LQDTD5444T to complete their KYC process.\\r',\n",
              "  {'entities': [[24, 34, 'PAN']]}],\n",
              " ['YUGFJ2046V was used for investment declarations this financial year.\\r',\n",
              "  {'entities': [[0, 10, 'PAN']]}],\n",
              " ['DDWCH0856B is associated with the new business contract we’re reviewing.\\r',\n",
              "  {'entities': [[0, 10, 'PAN']]}],\n",
              " [' On 9th May 2003, a seven-year-old girl was brutally murdered in Keshavpuram, New Delhi.\\r',\n",
              "  {'entities': [[4, 16, 'DATE'],\n",
              "    [20, 34, 'AGE'],\n",
              "    [53, 61, 'CRIME'],\n",
              "    [65, 76, 'LOC'],\n",
              "    [78, 87, 'GPE']]}],\n",
              " ['Rakesh Sharma, a 38-year-old IT professional from Delhi, was accused of masterminding a complex credit card fraud network.\\r',\n",
              "  {'entities': [[0, 13, 'PERSON'],\n",
              "    [17, 28, 'AGE'],\n",
              "    [29, 44, 'PROFESSION'],\n",
              "    [50, 55, 'GPE'],\n",
              "    [108, 113, 'CRIME']]}],\n",
              " ['The investigation began when Santosh Gupta, a manager at India National Bank, noticed unusual activity involving the credit card number 4587 1234 5678 9123.\\r',\n",
              "  {'entities': [[29, 42, 'PERSON'],\n",
              "    [46, 53, 'PROFESSION'],\n",
              "    [57, 76, 'ORG'],\n",
              "    [136, 155, 'CCN']]}],\n",
              " ['Further analysis revealed that the credit card number 5234 8765 4321 0987 was linked to similar transactions in Bengaluru.\\r',\n",
              "  {'entities': [[54, 73, 'CCN'], [112, 121, 'GPE']]}],\n",
              " ['It was discovered that Rakesh Sharma had obtained and used the credit card 5234 8765 4321 0987 to make purchases worth over ₹3,00,000 and 10,000 dirhams at electronics stores.\\r',\n",
              "  {'entities': [[23, 36, 'PERSON'],\n",
              "    [75, 94, 'CCN'],\n",
              "    [124, 133, 'MONEY'],\n",
              "    [138, 152, 'MONEY'],\n",
              "    [156, 174, 'LOC']]}],\n",
              " ['Evidence showed that the credit card number 6011 9876 5432 2101 was used to withdraw cash at ATMs in Singapore and Dubai.\\r',\n",
              "  {'entities': [[44, 63, 'CCN'], [101, 110, 'GPE'], [115, 120, 'GPE']]}],\n",
              " ['A key witness, Anita Kapoor, testified that she had been approached by Rakesh Sharma to help him use the credit card 3412 9876 1234 4567 to buy gold with $10,000.\\r',\n",
              "  {'entities': [[15, 27, 'PERSON'],\n",
              "    [71, 84, 'PERSON'],\n",
              "    [117, 136, 'GPE'],\n",
              "    [154, 161, 'MONEY']]}],\n",
              " ['The final piece of evidence was a purchase made using the credit card 3714 5678 9012 3456 to buy a luxury watch from Helios  in Mumbai.\\r',\n",
              "  {'entities': [[70, 89, 'CCN'], [117, 123, 'ORG'], [128, 134, 'GPE']]}],\n",
              " ['On July 15, 2024, at 10:00 AM, Meera Desai, a 28-year-old journalist from Mumbai, was reported missing by her colleague, Rohit Singh.\\r',\n",
              "  {'entities': [[3, 16, 'DATE'],\n",
              "    [21, 29, 'TIME'],\n",
              "    [31, 42, 'PERSON'],\n",
              "    [46, 57, 'AGE'],\n",
              "    [58, 68, 'PROFESSION'],\n",
              "    [74, 80, 'GPE'],\n",
              "    [121, 132, 'PERSON']]}],\n",
              " ['Meera was last seen leaving her office at 9:30 PM on July 14, 2024.\\r',\n",
              "  {'entities': [[0, 5, 'PERSON'], [42, 49, 'TIME'], [53, 66, 'DATE']]}],\n",
              " ['CCTV footage from 7:45 PM that day showed her boarding a local train from Churchgate station.\\r',\n",
              "  {'entities': [[18, 25, 'TIME'], [31, 34, 'TIME'], [74, 92, 'LOC']]}],\n",
              " [\"Meera's last known location was traced to Colaba at 9:00 PM on July 14, 2024.\\r\",\n",
              "  {'entities': [[0, 5, 'PERSON'],\n",
              "    [42, 48, 'LOC'],\n",
              "    [52, 59, 'TIME'],\n",
              "    [63, 76, 'DATE']]}],\n",
              " ['Her credit card was used at a café in Fort, Mumbai, at 8:45 PM on the night of her disappearance.\\r',\n",
              "  {'entities': [[38, 42, 'LOC'], [44, 50, 'GPE'], [55, 62, 'TIME']]}],\n",
              " ['At 9:00 AM on July 16, 2024, a call was received from an anonymous source claiming to have seen Meera near Worli at 6:30 AM.\\r',\n",
              "  {'entities': [[3, 10, 'TIME'],\n",
              "    [14, 27, 'DATE'],\n",
              "    [96, 101, 'PERSON'],\n",
              "    [107, 112, 'LOC'],\n",
              "    [116, 123, 'TIME']]}],\n",
              " ['The case has now gained nationwide attention, with regular updates provided every 24 hours by the police department.\\r',\n",
              "  {'entities': [[82, 90, 'TIME'], [98, 104, 'PROFESSION']]}],\n",
              " ['On July 17, 2024, at 1:00 AM, another anonymous call claimed to have seen Meera near Juhu Beach with a bag full of Rs. 2 lakhs.\\r',\n",
              "  {'entities': [[3, 16, 'DATE'],\n",
              "    [21, 28, 'TIME'],\n",
              "    [74, 79, 'PERSON'],\n",
              "    [85, 95, 'LOC'],\n",
              "    [115, 126, 'MONEY']]}],\n",
              " ['', {'entities': []}]]"
            ]
          },
          "metadata": {},
          "execution_count": 30
        }
      ]
    },
    {
      "cell_type": "code",
      "source": [
        "for text, annot in tqdm(TRAIN_DATA):\n",
        "    doc = nlp.make_doc(text)\n",
        "    ents = []\n",
        "    for start, end, label in annot['entities']:\n",
        "        span = doc.char_span(start, end, label=label, alignment_mode=\"contract\")\n",
        "        if span is None:\n",
        "            print(\"Skipping entity\")\n",
        "        else:\n",
        "            ents.append(span)\n",
        "    doc.ents = ents\n",
        "    db.add(doc)\n",
        "\n",
        "db.to_disk(\"./training_data.spacy\")"
      ],
      "metadata": {
        "colab": {
          "base_uri": "https://localhost:8080/"
        },
        "id": "VRGQF9p2VKss",
        "outputId": "7a538cd0-bbe7-4deb-d392-872bc327cab0"
      },
      "execution_count": 35,
      "outputs": [
        {
          "output_type": "stream",
          "name": "stderr",
          "text": [
            "100%|██████████| 100/100 [00:00<00:00, 3377.95it/s]"
          ]
        },
        {
          "output_type": "stream",
          "name": "stdout",
          "text": [
            "Skipping entity\n",
            "Skipping entity\n",
            "Skipping entity\n"
          ]
        },
        {
          "output_type": "stream",
          "name": "stderr",
          "text": [
            "\n"
          ]
        }
      ]
    },
    {
      "cell_type": "code",
      "source": [
        "! python -m spacy init config config.cfg --lang en --pipeline ner --optimize efficiency"
      ],
      "metadata": {
        "colab": {
          "base_uri": "https://localhost:8080/"
        },
        "id": "SECGYS_KVUHF",
        "outputId": "e2fccee3-e9db-4f1a-9881-29436b860e22"
      },
      "execution_count": 14,
      "outputs": [
        {
          "output_type": "stream",
          "name": "stdout",
          "text": [
            "\u001b[38;5;3m⚠ To generate a more effective transformer-based config (GPU-only),\n",
            "install the spacy-transformers package and re-run this command. The config\n",
            "generated now does not use transformers.\u001b[0m\n",
            "\u001b[38;5;4mℹ Generated config template specific for your use case\u001b[0m\n",
            "- Language: en\n",
            "- Pipeline: ner\n",
            "- Optimize for: efficiency\n",
            "- Hardware: CPU\n",
            "- Transformer: None\n",
            "\u001b[38;5;2m✔ Auto-filled config with all values\u001b[0m\n",
            "\u001b[38;5;2m✔ Saved config\u001b[0m\n",
            "config.cfg\n",
            "You can now add your data and train your pipeline:\n",
            "python -m spacy train config.cfg --paths.train ./train.spacy --paths.dev ./dev.spacy\n"
          ]
        }
      ]
    },
    {
      "cell_type": "code",
      "source": [
        "! python -m spacy train config.cfg --output ./ --paths.train ./training_data.spacy --paths.dev ./training_data.spacy"
      ],
      "metadata": {
        "colab": {
          "base_uri": "https://localhost:8080/"
        },
        "id": "sT82H_hqWaGP",
        "outputId": "cd185ad6-813d-4b74-bb63-f210e056f1b4"
      },
      "execution_count": 19,
      "outputs": [
        {
          "output_type": "stream",
          "name": "stdout",
          "text": [
            "\u001b[38;5;4mℹ Saving to output directory: .\u001b[0m\n",
            "\u001b[38;5;4mℹ Using CPU\u001b[0m\n",
            "\u001b[1m\n",
            "=========================== Initializing pipeline ===========================\u001b[0m\n",
            "\u001b[38;5;2m✔ Initialized pipeline\u001b[0m\n",
            "\u001b[1m\n",
            "============================= Training pipeline =============================\u001b[0m\n",
            "\u001b[38;5;4mℹ Pipeline: ['tok2vec', 'ner']\u001b[0m\n",
            "\u001b[38;5;4mℹ Initial learn rate: 0.001\u001b[0m\n",
            "E    #       LOSS TOK2VEC  LOSS NER  ENTS_F  ENTS_P  ENTS_R  SCORE \n",
            "---  ------  ------------  --------  ------  ------  ------  ------\n",
            "  0       0          0.00     41.32    0.00    0.00    0.00    0.00\n",
            "  8     200        858.36   4226.97   76.24   76.38   76.10    0.76\n",
            " 18     400        210.59    643.52  100.00  100.00  100.00    1.00\n",
            " 30     600         31.82     32.93  100.00  100.00  100.00    1.00\n",
            " 46     800          5.43      4.65  100.00  100.00  100.00    1.00\n",
            " 65    1000         21.35     12.28  100.00  100.00  100.00    1.00\n",
            " 89    1200          8.27      7.32  100.00  100.00  100.00    1.00\n",
            "117    1400         79.84     17.92  100.00  100.00  100.00    1.00\n",
            "152    1600        316.74    116.71  100.00  100.00  100.00    1.00\n",
            "195    1800        135.36     47.40  100.00  100.00  100.00    1.00\n",
            "245    2000        205.68     41.32  100.00  100.00  100.00    1.00\n",
            "\u001b[38;5;2m✔ Saved pipeline to output directory\u001b[0m\n",
            "model-last\n"
          ]
        }
      ]
    },
    {
      "cell_type": "code",
      "source": [
        "nlp_ner = spacy.load(\"/content/model-best\")"
      ],
      "metadata": {
        "id": "8zljPkppcy_w"
      },
      "execution_count": 20,
      "outputs": []
    },
    {
      "cell_type": "code",
      "source": [
        "doc = nlp_ner('''Dr. Jane Smith, a renowned cardiologist at Mayo Clinic, presented a new study on heart disease treatment during the World Health Summit in Geneva on October 5, 2024. The research, funded by the American Heart Association, highlighted significant improvements in treatment outcomes using a new drug. The findings are expected to revolutionize the approach to cardiovascular health and reduce heart disease mortality rates globally.''')"
      ],
      "metadata": {
        "id": "GTbWEZ9Cc9b4"
      },
      "execution_count": 33,
      "outputs": []
    },
    {
      "cell_type": "code",
      "source": [
        "spacy.displacy.render(doc, style=\"ent\", jupyter=True) # display in Jupyter"
      ],
      "metadata": {
        "colab": {
          "base_uri": "https://localhost:8080/",
          "height": 122
        },
        "id": "oBNf3_JGWzB9",
        "outputId": "3c3571cb-f949-47cb-f6d8-3f3ac2657021"
      },
      "execution_count": 34,
      "outputs": [
        {
          "output_type": "display_data",
          "data": {
            "text/plain": [
              "<IPython.core.display.HTML object>"
            ],
            "text/html": [
              "<span class=\"tex2jax_ignore\"><div class=\"entities\" style=\"line-height: 2.5; direction: ltr\">\n",
              "<mark class=\"entity\" style=\"background: #aa9cfc; padding: 0.45em 0.6em; margin: 0 0.25em; line-height: 1; border-radius: 0.35em;\">\n",
              "    Dr. Jane Smith\n",
              "    <span style=\"font-size: 0.8em; font-weight: bold; line-height: 1; border-radius: 0.35em; vertical-align: middle; margin-left: 0.5rem\">PERSON</span>\n",
              "</mark>\n",
              ", a renowned cardiologist at \n",
              "<mark class=\"entity\" style=\"background: #7aecec; padding: 0.45em 0.6em; margin: 0 0.25em; line-height: 1; border-radius: 0.35em;\">\n",
              "    Mayo Clinic\n",
              "    <span style=\"font-size: 0.8em; font-weight: bold; line-height: 1; border-radius: 0.35em; vertical-align: middle; margin-left: 0.5rem\">ORG</span>\n",
              "</mark>\n",
              ", presented a new study on heart disease treatment during the \n",
              "<mark class=\"entity\" style=\"background: #7aecec; padding: 0.45em 0.6em; margin: 0 0.25em; line-height: 1; border-radius: 0.35em;\">\n",
              "    World Health Summit\n",
              "    <span style=\"font-size: 0.8em; font-weight: bold; line-height: 1; border-radius: 0.35em; vertical-align: middle; margin-left: 0.5rem\">ORG</span>\n",
              "</mark>\n",
              " in Geneva on \n",
              "<mark class=\"entity\" style=\"background: #bfe1d9; padding: 0.45em 0.6em; margin: 0 0.25em; line-height: 1; border-radius: 0.35em;\">\n",
              "    October 5, 2024\n",
              "    <span style=\"font-size: 0.8em; font-weight: bold; line-height: 1; border-radius: 0.35em; vertical-align: middle; margin-left: 0.5rem\">DATE</span>\n",
              "</mark>\n",
              ". The research, funded by the \n",
              "<mark class=\"entity\" style=\"background: #7aecec; padding: 0.45em 0.6em; margin: 0 0.25em; line-height: 1; border-radius: 0.35em;\">\n",
              "    American Heart Association\n",
              "    <span style=\"font-size: 0.8em; font-weight: bold; line-height: 1; border-radius: 0.35em; vertical-align: middle; margin-left: 0.5rem\">ORG</span>\n",
              "</mark>\n",
              ", highlighted significant improvements in treatment outcomes using a new drug. The findings are expected to revolutionize the approach to cardiovascular health and reduce heart disease mortality rates globally.</div></span>"
            ]
          },
          "metadata": {}
        }
      ]
    }
  ]
}